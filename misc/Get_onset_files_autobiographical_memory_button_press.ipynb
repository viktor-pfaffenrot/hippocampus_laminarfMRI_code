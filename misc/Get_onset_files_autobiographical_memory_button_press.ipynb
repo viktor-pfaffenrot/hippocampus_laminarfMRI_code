{
 "cells": [
  {
   "cell_type": "code",
   "execution_count": 1,
   "metadata": {},
   "outputs": [],
   "source": [
    "import os, glob\n",
    "import pandas as pd\n",
    "import numpy as np"
   ]
  },
  {
   "cell_type": "code",
   "execution_count": 2,
   "metadata": {},
   "outputs": [],
   "source": [
    "#path where the psychopy csv files are\n",
    "subid = \"7568\"\n",
    "session = \"ses-01\"\n",
    "\n",
    "subject=\"sub09\"\n",
    "save_prefix=subject+\"_ses01\"\n",
    "root=f'/media/pfaffenrot/Elements/postdoc/projects/hippocampus_VASO/derivatives/pipeline/{subid}/{session}/func/'\n",
    "\n",
    "#path where you want to save the onset files\n",
    "save_root=f'/media/pfaffenrot/Elements/postdoc/projects/hippocampus_VASO/derivatives/pipeline/{subid}/{session}/func/'\n",
    "\n",
    "\n",
    "##this will automatically retrieve the raw psychopy files of each run in the \"root\" folder, provided that \n",
    "#you saved these files with run number \"run1\", \"run2\" and \"run3\" in their names\n",
    "runs=[glob.glob(root+\"/\"+subject+\"*run1*csv\")[0],\n",
    "     glob.glob(root+\"/\"+subject+\"*run2*csv\")[0],\n",
    "     glob.glob(root+\"/\"+subject+\"*run3*csv\")[0]]"
   ]
  },
  {
   "cell_type": "code",
   "execution_count": 3,
   "metadata": {},
   "outputs": [],
   "source": [
    "#argument run is a list of the path of each run, argument save_root is where you want to save the files,\n",
    "#argument save_prefix is subjct number + other info\n",
    "def get_onset_files(runs,save_root,save_prefix):\n",
    "    \n",
    "    for runnumber, run in enumerate(runs):\n",
    "        df=pd.read_csv(run)\n",
    "        runnumber_correct=runnumber+1\n",
    "\n",
    "\n",
    "        #fetch the timing of the first trigger\n",
    "        keyresp=df[\"key_resp_waitscan.started\"]\n",
    "        keyresprt=df[\"key_resp_waitscan.rt\"]\n",
    "\n",
    "        first_TR=keyresp+keyresprt\n",
    "        first_TR=first_TR[3]\n",
    "\n",
    "        #substract timing of the first trigger to timings of the events\n",
    "        event_time=df[\"text_stim.started\"]\n",
    "        event_onset_corrected=event_time-first_TR\n",
    "\n",
    "        \n",
    "        ##calculate onset of button press, and duration of before/after button press for each trial\n",
    "        before_buttonpress_duration=df[\"key_resp_find.rt\"]\n",
    "        after_buttonpress_onset_corrected=event_onset_corrected+before_buttonpress_duration\n",
    "        after_buttonpress_duration=17.6-df[\"key_resp_find.rt\"].astype(float)\n",
    "        \n",
    "        #create new df with the onset values\n",
    "        newdf=pd.DataFrame()\n",
    "        newdf[\"condition\"]=df[\"condition\"]\n",
    "        newdf['onset_start_of_trial']=event_onset_corrected\n",
    "        newdf['onset_afterbuttonpress']=after_buttonpress_onset_corrected\n",
    "        newdf[\"duration_beforebuttonpress\"]=before_buttonpress_duration\n",
    "        newdf['duration_afterbuttonpress']=after_buttonpress_duration\n",
    "        newdf[\"duration_wholetrial\"]=before_buttonpress_duration+after_buttonpress_duration\n",
    "        \n",
    "        \n",
    "        newdf=newdf.iloc[7:,:]\n",
    "        \n",
    "        newdf.to_csv(save_root+\"/\"+save_prefix+\"_run\"+str(runnumber_correct)+\"_onset.csv\")\n"
   ]
  },
  {
   "cell_type": "code",
   "execution_count": 4,
   "metadata": {},
   "outputs": [],
   "source": [
    "get_onset_files(runs,save_root,save_prefix)"
   ]
  }
 ],
 "metadata": {
  "kernelspec": {
   "display_name": "Python 3 (ipykernel)",
   "language": "python",
   "name": "python3"
  },
  "language_info": {
   "codemirror_mode": {
    "name": "ipython",
    "version": 3
   },
   "file_extension": ".py",
   "mimetype": "text/x-python",
   "name": "python",
   "nbconvert_exporter": "python",
   "pygments_lexer": "ipython3",
   "version": "3.9.18"
  }
 },
 "nbformat": 4,
 "nbformat_minor": 4
}
